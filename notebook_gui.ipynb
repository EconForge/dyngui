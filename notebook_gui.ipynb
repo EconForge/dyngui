{
 "metadata": {
  "name": "",
  "signature": "sha256:7149ff9ce3cea22ca7a1e2f6bef1a0c94c4634b538c29581d590ea7a7041b027"
 },
 "nbformat": 3,
 "nbformat_minor": 0,
 "worksheets": [
  {
   "cells": [
    {
     "cell_type": "code",
     "collapsed": false,
     "input": [
      "from pylab import *\n",
      "from dolo import *"
     ],
     "language": "python",
     "metadata": {},
     "outputs": [],
     "prompt_number": 1
    },
    {
     "cell_type": "code",
     "collapsed": false,
     "input": [
      "from IPython.html import widgets"
     ],
     "language": "python",
     "metadata": {},
     "outputs": [],
     "prompt_number": 2
    },
    {
     "cell_type": "code",
     "collapsed": false,
     "input": [
      "def construct_interface():\n",
      "    \n",
      "    var_box = widgets.TextWidget(description=\"variables\")\n",
      "    shock_box = widgets.TextWidget(description=\"shocks\")\n",
      "    param_box = widgets.TextWidget(description=\"parameters\")\n",
      "\n",
      "    eq_text = widgets.TextareaWidget()\n",
      "    calib_text = widgets.TextareaWidget()\n",
      "\n",
      "    but_solve = widgets.ButtonWidget(description=\"Solve\")\n",
      "\n",
      "    page1 = widgets.ContainerWidget(children=[var_box, shock_box, param_box, eq_text, calib_text])\n",
      "\n",
      "    order_combo = widgets.RadioButtonsWidget(values=[\"1\",\"2\",\"3\"], value=\"1\", description='Approximation order')\n",
      "    horizon_combo = widgets.IntTextWidget(min=20, max=100, value=50)\n",
      "\n",
      "    page2 = widgets.ContainerWidget(children=[order_combo, horizon_combo, but_solve])\n",
      "\n",
      "    tabs = widgets.TabWidget(children=[page1,page2])\n",
      "\n",
      "    ui = widgets.PopupWidget(children=[tabs])\n",
      "\n",
      "    # what to do when button is clicked\n",
      "\n",
      "    def solve(caller):\n",
      "        model = yaml_import(\"rbc_dynare.yaml\")\n",
      "        from dolo.algos.dynare.perturbations import solve_decision_rule\n",
      "        from dolo.algos.dynare.simulations import stoch_simul\n",
      "        dr = solve_decision_rule(model, order=1)\n",
      "        sim = stoch_simul(dr, plot=False)\n",
      "        sim = stoch_simul(dr, plot=True)\n",
      "        htmlwidget = widgets.HTMLWidget( value=sim._repr_html_() )\n",
      "        page = widgets.ContainerWidget(children=[htmlwidget])\n",
      "        tabs.children = tabs.children + (page,)\n",
      "        tabs.set_title(2,\"Simulations\")\n",
      "\n",
      "    but_solve.on_click(solve)\n",
      "\n",
      "    return ui\n"
     ],
     "language": "python",
     "metadata": {},
     "outputs": [],
     "prompt_number": 77
    },
    {
     "cell_type": "code",
     "collapsed": false,
     "input": [
      "ui = construct_interface()\n",
      "display(ui)\n",
      "ui.children[0].set_title(0,'Model')\n",
      "ui.children[0].set_title(1,'Options')"
     ],
     "language": "python",
     "metadata": {},
     "outputs": [],
     "prompt_number": 78
    },
    {
     "cell_type": "code",
     "collapsed": false,
     "input": [],
     "language": "python",
     "metadata": {},
     "outputs": []
    }
   ],
   "metadata": {}
  }
 ]
}